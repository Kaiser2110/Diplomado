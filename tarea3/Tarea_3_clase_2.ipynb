{
  "nbformat": 4,
  "nbformat_minor": 0,
  "metadata": {
    "colab": {
      "provenance": [],
      "authorship_tag": "ABX9TyNtmPcOuCB1ibe+1Cx/h3Nz",
      "include_colab_link": true
    },
    "kernelspec": {
      "name": "python3",
      "display_name": "Python 3"
    },
    "language_info": {
      "name": "python"
    }
  },
  "cells": [
    {
      "cell_type": "markdown",
      "metadata": {
        "id": "view-in-github",
        "colab_type": "text"
      },
      "source": [
        "<a href=\"https://colab.research.google.com/github/Kaiser2110/Diplomado/blob/master/tarea3/Tarea_3_clase_2.ipynb\" target=\"_parent\"><img src=\"https://colab.research.google.com/assets/colab-badge.svg\" alt=\"Open In Colab\"/></a>"
      ]
    },
    {
      "cell_type": "code",
      "execution_count": 2,
      "metadata": {
        "colab": {
          "base_uri": "https://localhost:8080/",
          "height": 802
        },
        "id": "xtvyGFnXj_f7",
        "outputId": "8d695581-c479-4aa1-86ab-b42c9a57c7df"
      },
      "outputs": [
        {
          "output_type": "stream",
          "name": "stdout",
          "text": [
            "           Var_1     Var_2\n",
            "count   5.000000  5.000000\n",
            "mean   20.000000  3.000000\n",
            "std     7.905694  1.581139\n",
            "min    10.000000  1.000000\n",
            "25%    15.000000  2.000000\n",
            "50%    20.000000  3.000000\n",
            "75%    25.000000  4.000000\n",
            "max    30.000000  5.000000\n",
            "['Var_1', 'Var_2']\n"
          ]
        },
        {
          "output_type": "display_data",
          "data": {
            "text/plain": [
              "<Figure size 640x480 with 1 Axes>"
            ],
            "image/png": "[encoded data removed]"
          },
          "metadata": {}
        },
        {
          "output_type": "stream",
          "name": "stdout",
          "text": [
            "count     5.000000\n",
            "mean     20.000000\n",
            "std       7.905694\n",
            "min      10.000000\n",
            "25%      15.000000\n",
            "50%      20.000000\n",
            "75%      25.000000\n",
            "max      30.000000\n",
            "Name: Var_1, dtype: float64\n"
          ]
        }
      ],
      "source": [
        "import pandas as pd\n",
        "import matplotlib.pyplot as plt\n",
        "\n",
        "class Analizador:\n",
        "    def __init__(self, datos):\n",
        "        self.dataframe = pd.DataFrame(datos)\n",
        "\n",
        "    def calcula_estadisticos(self):\n",
        "        estadisticos = self.dataframe.describe()\n",
        "        return estadisticos\n",
        "\n",
        "    def getter_nombre(self):\n",
        "        var_nom = self.dataframe.columns.tolist()\n",
        "        return var_nom\n",
        "\n",
        "    def analiza_var(self, var_nom):\n",
        "        if var_nom not in self.dataframe.columns:\n",
        "            raise ValueError(\"La variable no existe.\")\n",
        "\n",
        "        var_est = self.dataframe[var_nom].describe()\n",
        "\n",
        "        plt.hist(self.dataframe[var_nom])\n",
        "        plt.xlabel(var_nom)\n",
        "        plt.ylabel(\"Frecuencia\")\n",
        "        plt.title(\"Histograma de {}\".format(var_nom))\n",
        "        plt.show()\n",
        "\n",
        "        return var_est\n",
        "\n",
        "datos = {\n",
        "    'Var_1': [10, 15, 20, 25, 30],\n",
        "    'Var_2': [1, 2, 3, 4, 5]\n",
        "}\n",
        "\n",
        "anal = Analizador(datos)\n",
        "\n",
        "print(anal.calcula_estadisticos())\n",
        "\n",
        "print(anal.getter_nombre())\n",
        "\n",
        "print(anal.analiza_var('Var_1'))\n"
      ]
    }
  ]
}